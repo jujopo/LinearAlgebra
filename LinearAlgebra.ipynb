{
 "cells": [
  {
   "cell_type": "markdown",
   "id": "dce143a1",
   "metadata": {},
   "source": [
    "# Linear Algebra"
   ]
  },
  {
   "cell_type": "markdown",
   "id": "436a327a",
   "metadata": {},
   "source": [
    "## Normed Linear Spaces"
   ]
  },
  {
   "cell_type": "markdown",
   "id": "fbbc8863",
   "metadata": {},
   "source": [
    "A vector space $V$ is said to be a normed linear space if there exists a number $\\rho(\\mathbf{x})$ assigned to each $\\mathbf{x} \\in V$, i.e., a map \n",
    "\n",
    "$$\\begin{align*}\n",
    "\\left\\lVert \\cdot \\right\\lVert: & V \\rightarrow \\mathbb{R} \\\\\n",
    "& v \\mapsto \\left\\lVert v \\right\\lVert\n",
    "\\end{align*}$$\n",
    "\n",
    "such that for every choice of $\\mathbf{x}$, $\\mathbf{y}$ $\\in V$ and every scalar $\\alpha$ the following condtions are met\n",
    "\n",
    "1. $\\rho(\\mathbf{x}) \\geq 0$, equality holds if and only if $\\mathbf{x}=0$.\n",
    "2. $\\rho(\\alpha\\mathbf{x}) = \\left|\\alpha\\right| \\rho(\\mathbf{x})$.\n",
    "3. $\\rho(\\mathbf{x+y}) \\leq \\rho(\\mathbf{x}) + \\rho(\\mathbf{y})$.\n",
    "\n",
    "Every function $\\rho(\\cdot)$ that meet these conditions is called a **norm** and is usually denoted by $\\left\\lVert \\cdot \\right\\lVert$, the first condition can be also replaced by **positive definiteness**, i.e., $\\left\\lVert \\cdot \\right\\lVert = 0$ if and only if $v=0$, the second condition is known as **positive homogeneity** or **absolute homogeneity** and the last condition is the well-known triangle inequality (**subadditivity**). \n",
    "\n",
    "**Remark 1.1:** Note that positive definiteness implies $\\left\\lVert v \\right\\lVert \\geq 0$ for each $v \\in V$ since\n",
    "\n",
    "$$0 = \\left\\lvert v-v \\right\\lVert \\leq \\left\\lVert v \\right\\lVert + \\left\\lVert -v \\right\\lVert = 2\\left\\lVert v \\right\\lVert $$\n",
    "\n",
    "### Finite-dimensional complex normed spaces\n",
    "\n",
    "On an $n$-dimensional complex space $\\mathbb{C}^n$, the most common norm is\n",
    "\n",
    "$$\\left\\lVert z \\right\\lVert_{2} \\coloneqq \\sqrt{z\\bar{z}} = \\sqrt{{\\lvert z_1\\rvert}^2+\\cdots + {\\lvert z_n\\rvert}^2} $$"
   ]
  },
  {
   "cell_type": "markdown",
   "id": "773e95b1",
   "metadata": {},
   "source": [
    "## Inner product spaces"
   ]
  },
  {
   "cell_type": "markdown",
   "id": "83edc6d7",
   "metadata": {},
   "source": [
    "A vector space $V$ is said to be an **inner product space** if there is a number $\\langle u,v \\rangle \\in \\mathbb{C}$ associated with every pair of vectors $u, v \\in V$ such that\n",
    "\n",
    "1) $\\langle u+w, v \\rangle = \\langle u, v \\rangle + \\langle w,v \\rangle$ for every $w \\in V$.\n",
    "2) $\\langle \\alpha u, v \\rangle = \\alpha \\langle u,v \\rangle$ for every scalar $\\alpha$.\n",
    "3) $\\langle u, v \\rangle = \\overline{\\langle v, u \\rangle}$.\n",
    "4) $\\langle u, u \\rangle \\geq 0$ with equality if and only if $u = 0$.\n",
    "\n",
    "The number $\\langle u, v \\rangle$ is termed the inner product. We can see that items (1) and (2) imply that the inner product is linear in the first entry and hence, that\n",
    "\n",
    "$$2\\langle 0, v \\rangle = \\langle 2\\cdot 0, v \\rangle = \\langle 0, v \\rangle,$$\n",
    "\n",
    "which implies that $\\langle 0, v \\rangle = 0$. Item (3) serves to guarantee that inner product is additive in the second entry, i.e., \n",
    "\n",
    "$$\n",
    "\\begin{align*}\n",
    "    \\langle u, v+w \\rangle &= \\overline{\\langle v+w,u \\rangle} \\\\\n",
    "    &=\\overline{\\langle v,u \\rangle + \\langle w,u \\rangle}\\\\\n",
    "    &= \\overline{\\langle v,u \\rangle} + \\overline{\\langle w,u \\rangle}\\\\\n",
    "    &= \\langle u,v \\rangle + \\langle u,w \\rangle;\n",
    "\\end{align*}  \n",
    "$$\n",
    "\n",
    "however, we can see that\n",
    "\n",
    "$$\\langle u, \\beta v \\rangle = \\overline{\\langle \\beta v, u \\rangle} = \\overline{\\beta \\langle v, u \\rangle} = \\bar{\\beta} \\langle u, v \\rangle.$$"
   ]
  },
  {
   "cell_type": "markdown",
   "id": "411edbed",
   "metadata": {},
   "source": [
    "We know that for any number $z \\in \\mathbb{C}$ we have the following:\n",
    "\n",
    "$$\\text{Re}(z)=\\frac{z+\\bar{z}}{2}$$\n",
    "\n",
    "$$\\text{Im}(z)=\\frac{z-\\bar{z}}{2i}$$"
   ]
  },
  {
   "cell_type": "markdown",
   "id": "520b8ae1",
   "metadata": {},
   "source": [
    "**Proposition. (Parallelogram law).** Let $\\langle \\cdot, \\cdot \\rangle$ be an inner product, then\n",
    "\n",
    "$$\\begin{align*}\n",
    "\\langle u+v, u+v \\rangle &= \\langle u, u \\rangle + \\langle u, v \\rangle + \\langle v, u \\rangle + \\langle v, v \\rangle \\\\\n",
    "&= \\langle u, u \\rangle + \\langle u, v \\rangle + \\overline{\\langle u, v \\rangle} + \\langle v, v \\rangle \\\\\n",
    "&= \\langle u, u \\rangle + 2\\,\\text{Re}\\,\\langle u, v \\rangle + \\langle v, v \\rangle \n",
    "\\end{align*}\n",
    "$$\n",
    "\n",
    "Similarly, we have that\n",
    "\n",
    "\n",
    "$$\\begin{align*}\n",
    "\\langle u-v, u-v \\rangle = \\langle u, u \\rangle - 2\\,\\text{Re}\\,\\langle u, v \\rangle + \\langle v, v \\rangle \n",
    "\\end{align*}\n",
    "$$\n",
    "\n",
    "Adding the last two results we obtain that\n",
    "\n",
    "$$\\begin{align*}\n",
    "\\langle u+v, u+v \\rangle + \\langle u-v, u-v \\rangle = 2(\\langle u, u \\rangle + \\langle v, v \\rangle)\n",
    "\\end{align*}\n",
    "$$\n",
    "\n",
    "which in terms of the norm $\\left\\lVert x \\right\\lVert = \\sqrt{\\langle x,x \\rangle}$ is \n",
    "\n",
    "$$\\begin{align*}\n",
    "{\\left\\lVert u+v \\right\\lVert}^2 + {\\left\\lVert u-v \\right\\lVert}^2 = 2({\\left\\lVert u \\right\\lVert}^2 + {\\left\\lVert v \\right\\lVert}^2)\n",
    "\\end{align*}\n",
    "$$\n",
    "\n",
    "which is commonly known as the parallelogram law, it says that the sum of the squares of the lengths of the two diagonals equals the sum of the squares of the lengths of the four sides of a parallelogram.\n",
    "\n",
    "**Collorary (Real polarization identity)**\n",
    "\n"
   ]
  },
  {
   "cell_type": "markdown",
   "id": "c9223f4e",
   "metadata": {},
   "source": [
    "Let $\\langle \\cdot , \\cdot \\rangle$ be an inner product on a complex vector space and $\\left\\lVert x\\right\\lVert = \\sqrt{\\langle x,x \\rangle}$. Then\n",
    "\n",
    "$$\n",
    "\\begin{align*}\n",
    "{\\left\\lVert u+v \\right\\lVert}^{2} -{\\left\\lVert u-v \\right\\lVert}^{2} &= 4\\operatorname{Re}\\,\\langle u,v\\rangle \\\\\n",
    "&= 4\\langle u,v\\rangle\n",
    "\\end{align*}\n",
    "$$\n",
    "\n",
    "implies that the inner product is determined by the norm by the polarization identity:  \n",
    "\n",
    "$$\\langle u,v\\rangle=\\frac{1}{4}\\left({\\left\\lVert u+v \\right\\lVert}^{2}-{\\left\\lVert u-v \\right\\lVert}^{2}\\right).$$ \n",
    "$\\square$"
   ]
  },
  {
   "cell_type": "markdown",
   "id": "6e1a319d",
   "metadata": {},
   "source": [
    "Note that \n",
    "\n",
    "$$z = \\text{Re}(z)+i\\text{Im}(z),$$\n",
    "\n",
    "and we also have that \n",
    "\n",
    "$$\n",
    "\\begin{align*}\n",
    "\\text{Im}\\,\\langle u, v \\rangle &= \\frac{\\langle u, v \\rangle-\\overline{\\langle u, v \\rangle}}{2i} \\\\\n",
    "&= \\frac{i\\overline{\\langle u, v \\rangle}-i\\langle u, v \\rangle}{2} \\\\\n",
    "\\end{align*}\n",
    "$$\n",
    "\n",
    "which is equivalent to \n",
    "\n",
    "$$\n",
    "\\begin{align*}\n",
    "2\\,\\text{Im}\\,\\langle u, v \\rangle &= i\\overline{\\langle u, v \\rangle}-i\\langle u, v \\rangle \\\\\n",
    "&= i\\langle v, u \\rangle +\\overline{i\\langle v, u \\rangle} \\\\\n",
    "&= \\langle iv, u \\rangle +\\overline{\\langle iv, u \\rangle} \\\\\n",
    "&= \\langle u, iv \\rangle +\\overline{\\langle u, iv \\rangle} \\\\\n",
    "&= 2\\,\\text{Re}\\,\\langle u, iv \\rangle.\n",
    "\\end{align*}\n",
    "$$\n",
    "\n",
    "Hence, we have that\n",
    "\n",
    "$$\\text{Im}\\,\\langle u, v \\rangle =\\text{Re}\\,\\langle u, iv \\rangle.$$\n"
   ]
  },
  {
   "cell_type": "markdown",
   "id": "eedb91fa",
   "metadata": {},
   "source": [
    "**Collorary (Complex polarization identity).** Notice that\n",
    "\n",
    "$$\n",
    "\\begin{align*}\n",
    "i{\\left\\lVert u+iv \\right\\lVert}^{2} -i{\\left\\lVert u-iv \\right\\lVert}^{2} &= i\\left(\\langle u+iv,u+iv \\rangle -\\langle u-iv,u-iv \\rangle\\right) \\\\\n",
    "&= i\\left(\\langle u,u \\rangle + \\langle u,iv \\rangle + \\langle iv,u \\rangle + \\langle iv,iv \\rangle - \\langle u,u \\rangle + \\langle u,iv \\rangle + \\langle iv,u \\rangle - \\langle iv,iv \\rangle \\right) \\\\\n",
    "&= 2i\\left(\\langle u,iv \\rangle + \\overline{\\langle u,iv \\rangle} \\right) \\\\\n",
    "&= 4i\\, \\text{Re}\\,\\langle u,iv \\rangle.\n",
    "\\end{align*}\n",
    "$$\n",
    "\n",
    "Hence, using the real polarization identiy and the previous derivation we can see that\n",
    "\n",
    "$$\n",
    "\\begin{align*}\n",
    "{\\left\\lVert u+v \\right\\lVert}^{2} -{\\left\\lVert u-v \\right\\lVert}^{2} + i{\\left\\lVert u+iv \\right\\lVert}^{2} -i{\\left\\lVert u-iv \\right\\lVert}^{2} &= 4\\operatorname{Re}\\,\\langle u,v\\rangle + 4i\\, \\text{Re}\\,\\langle u,iv \\rangle\\\\\n",
    "&= 4 \\left( \\operatorname{Re}\\,\\langle u,v\\rangle + i\\, \\operatorname{Im}\\,\\langle u,v \\rangle \\right) \\\\\n",
    "&= 4 \\langle u,v\\rangle.\n",
    "\\end{align*}\n",
    "$$\n",
    "\n",
    "where we have used the previous derived fact that $\\text{Im}\\,\\langle u, v \\rangle =\\text{Re}\\,\\langle u, iv \\rangle.$ Hence, we know that the inner product is determined by the identity \n",
    "\n",
    "$$\n",
    "\\begin{align*}\n",
    "\\langle u,v\\rangle &= \\frac{1}{4}\\left({\\left\\lVert u+v \\right\\lVert}^{2} -{\\left\\lVert u-v \\right\\lVert}^{2} + i{\\left\\lVert u+iv \\right\\lVert}^{2} -i{\\left\\lVert u-iv \\right\\lVert}^{2}\\right)\n",
    "\\end{align*}\n",
    "$$\n",
    "\n",
    "Notice that the right hand side can be expressed as\n",
    "\n",
    "$$\\frac{1}{4}\\sum_{n=0}^{3}{i^{n}{\\left\\lVert u+i^nv \\right\\lVert}^2}$$\n",
    "\n",
    "Thus we have the complex polarization identity\n",
    "\n",
    "$$\\langle u,v \\rangle = \\frac{1}{4}\\sum_{n=0}^{3}{i^{n}{\\left\\lVert u+i^nv \\right\\lVert}^2} $$\n",
    "\n",
    "which determines the inner product entirely in terms of values of the norm."
   ]
  },
  {
   "cell_type": "markdown",
   "id": "e421f7c9",
   "metadata": {},
   "source": []
  }
 ],
 "metadata": {
  "kernelspec": {
   "display_name": "Python 3",
   "language": "python",
   "name": "python3"
  },
  "language_info": {
   "codemirror_mode": {
    "name": "ipython",
    "version": 3
   },
   "file_extension": ".py",
   "mimetype": "text/x-python",
   "name": "python",
   "nbconvert_exporter": "python",
   "pygments_lexer": "ipython3",
   "version": "3.13.2"
  }
 },
 "nbformat": 4,
 "nbformat_minor": 5
}
