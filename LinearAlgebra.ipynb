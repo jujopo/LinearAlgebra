{
 "cells": [
  {
   "cell_type": "markdown",
   "id": "41ca45db",
   "metadata": {},
   "source": [
    "# Linear Algebra\n",
    "\n",
    "## Normed Linear Spaces\n",
    "\n",
    "A vector space $V$ is said to be a normed linear space if there exists a number $\\rho(\\mathbf{x})$ assigned to each $\\mathbf{x} \\in V$, i.e., a map \n",
    "\n",
    "$$\\begin{align*}\n",
    "\\left\\lVert \\cdot \\right\\lVert: & V \\rightarrow \\mathbb{R} \\\\\n",
    "& v \\mapsto \\left\\lVert v \\right\\lVert\n",
    "\\end{align*}$$\n",
    "\n",
    "such that for every choice of $\\mathbf{x}$, $\\mathbf{y}$ $\\in V$ and every scalar $\\alpha$ the following condtions are met\n",
    "\n",
    "1. $\\rho(\\mathbf{x}) \\geq 0$ and equality holds if and only if $\\mathbf{x}=0$.\n",
    "2. $\\rho(\\alpha\\mathbf{x}) = \\left|\\alpha\\right| \\rho(\\mathbf{x})$.\n",
    "3. $\\rho(\\mathbf{x+y}) \\leq \\rho(\\mathbf{x}) + \\rho(\\mathbf{y})$."
   ]
  },
  {
   "cell_type": "markdown",
   "id": "436a327a",
   "metadata": {},
   "source": []
  }
 ],
 "metadata": {
  "kernelspec": {
   "display_name": "Python 3",
   "language": "python",
   "name": "python3"
  },
  "language_info": {
   "name": "python",
   "version": "3.13.2"
  }
 },
 "nbformat": 4,
 "nbformat_minor": 5
}
