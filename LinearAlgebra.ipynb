{
 "cells": [
  {
   "cell_type": "markdown",
   "id": "dce143a1",
   "metadata": {},
   "source": [
    "# Linear Algebra"
   ]
  },
  {
   "cell_type": "markdown",
   "id": "436a327a",
   "metadata": {},
   "source": [
    "## Normed Linear Spaces"
   ]
  },
  {
   "cell_type": "markdown",
   "id": "fbbc8863",
   "metadata": {},
   "source": [
    "A vector space $V$ is said to be a normed linear space if there exists a number $\\rho(\\mathbf{x})$ assigned to each $\\mathbf{x} \\in V$, i.e., a map \n",
    "\n",
    "$$\\begin{align*}\n",
    "\\left\\lVert \\cdot \\right\\lVert: & V \\rightarrow \\mathbb{R} \\\\\n",
    "& v \\mapsto \\left\\lVert v \\right\\lVert\n",
    "\\end{align*}$$\n",
    "\n",
    "such that for every choice of $\\mathbf{x}$, $\\mathbf{y}$ $\\in V$ and every scalar $\\alpha$ the following condtions are met\n",
    "\n",
    "1. $\\rho(\\mathbf{x}) \\geq 0$, equality holds if and only if $\\mathbf{x}=0$.\n",
    "2. $\\rho(\\alpha\\mathbf{x}) = \\left|\\alpha\\right| \\rho(\\mathbf{x})$.\n",
    "3. $\\rho(\\mathbf{x+y}) \\leq \\rho(\\mathbf{x}) + \\rho(\\mathbf{y})$.\n",
    "\n",
    "Every function $\\rho(\\cdot)$ that meet these conditions is called a **norm** and is usually denoted by $\\left\\lVert \\cdot \\right\\lVert$, the first condition can be also replaced by **positive definiteness**, i.e., $\\left\\lVert \\cdot \\right\\lVert = 0$ if and only if $v=0$, the second condition is known as **positive homogeneity** or **absolute homogeneity** and the last condition is the well-known triangle inequality (**subadditivity**). \n",
    "\n",
    "**Remark 1.1:** Note that positive definiteness implies $\\left\\lVert v \\right\\lVert \\geq 0$ for each $v \\in V$ since\n",
    "\n",
    "$$0 = \\left\\lvert v-v \\right\\lVert \\leq \\left\\lVert v \\right\\lVert + \\left\\lVert -v \\right\\lVert = 2\\left\\lVert v \\right\\lVert $$\n",
    "\n",
    "### Finite-dimensional complex normed spaces\n",
    "\n",
    "On an $n$-dimensional complex space $\\mathbb{C}^n$, the most common norm is\n",
    "\n",
    "$$\\left\\lVert z \\right\\lVert_{2} \\coloneqq \\sqrt{z\\bar{z}} = \\sqrt{{\\lvert z_1\\rvert}^2+\\cdots + {\\lvert z_n\\rvert}^2} $$"
   ]
  },
  {
   "cell_type": "markdown",
   "id": "773e95b1",
   "metadata": {},
   "source": [
    "## Inner product spaces"
   ]
  },
  {
   "cell_type": "markdown",
   "id": "83edc6d7",
   "metadata": {},
   "source": [
    "A vector space $V$ is said to be an **inner product space** if there is a number $\\langle u,v \\rangle \\in \\mathbb{C}$ associated with every pair of vectors $u, v \\in V$ such that\n",
    "\n",
    "1) $\\langle u+w, v \\rangle = \\langle u, v \\rangle + \\langle w,v \\rangle$ for every $w \\in V$.\n",
    "2) $\\langle \\alpha u, v \\rangle = \\alpha \\langle u,v \\rangle$ for every scalar $\\alpha$.\n",
    "3) $\\langle u, v \\rangle = \\overline{\\langle v, u \\rangle}$.\n",
    "4) $\\langle u, u \\rangle \\geq 0$ with equality if and only if $u = 0$.\n",
    "\n",
    "The number $\\langle u, v \\rangle$ is termed the inner product. We can see that items (1) and (2) imply that the inner product is linear in the first entry and hence, that\n",
    "\n",
    "$$2\\langle 0, v \\rangle = \\langle 2\\cdot 0, v \\rangle = \\langle 0, v \\rangle,$$\n",
    "\n",
    "which implies that $\\langle 0, v \\rangle = 0$. Item (3) serves to guarantee that inner product is additive in the second entry, i.e., \n",
    "\n",
    "$$\n",
    "\\begin{align*}\n",
    "    \\langle u, v+w \\rangle &= \\overline{\\langle v+w,u \\rangle} \\\\\n",
    "    &=\\overline{\\langle v,u \\rangle + \\langle w,u \\rangle}\\\\\n",
    "    &= \\overline{\\langle v,u \\rangle} + \\overline{\\langle w,u \\rangle}\\\\\n",
    "    &= \\langle u,v \\rangle + \\langle u,w \\rangle;\n",
    "\\end{align*}  \n",
    "$$\n",
    "\n",
    "however, we can see that\n",
    "\n",
    "$$\\langle u, \\beta v \\rangle = \\overline{\\langle \\beta v, u \\rangle} = \\overline{\\beta \\langle v, u \\rangle} = \\bar{\\beta} \\langle u, v \\rangle.$$"
   ]
  },
  {
   "cell_type": "markdown",
   "id": "411edbed",
   "metadata": {},
   "source": [
    "We know that for any number $z \\in \\mathbb{C}$ we have the following:\n",
    "\n",
    "$$\\text{Re}(z)=\\frac{z+\\bar{z}}{2}$$\n",
    "\n",
    "$$\\text{Im}(z)=\\frac{z-\\bar{z}}{2i}$$"
   ]
  },
  {
   "cell_type": "markdown",
   "id": "520b8ae1",
   "metadata": {},
   "source": [
    "**Proposition. (Parallelogram law).** Let $\\langle \\cdot, \\cdot \\rangle$ be an inner product, then\n",
    "\n",
    "$$\\begin{align*}\n",
    "\\langle u+v, u+v \\rangle &= \\langle u, u \\rangle + \\langle u, v \\rangle + \\langle v, u \\rangle + \\langle v, v \\rangle \\\\\n",
    "&= \\langle u, u \\rangle + \\langle u, v \\rangle + \\overline{\\langle u, v \\rangle} + \\langle v, v \\rangle \\\\\n",
    "&= \\langle u, u \\rangle + 2\\,\\text{Re}\\,\\langle u, v \\rangle + \\langle v, v \\rangle \n",
    "\\end{align*}\n",
    "$$\n",
    "\n",
    "Similarly, we have that\n",
    "\n",
    "\n",
    "$$\\begin{align*}\n",
    "\\langle u-v, u-v \\rangle = \\langle u, u \\rangle - 2\\,\\text{Re}\\,\\langle u, v \\rangle + \\langle v, v \\rangle \n",
    "\\end{align*}\n",
    "$$\n",
    "\n",
    "Adding the last two results we obtain that\n",
    "\n",
    "$$\\begin{align*}\n",
    "\\langle u+v, u+v \\rangle + \\langle u-v, u-v \\rangle = 2(\\langle u, u \\rangle + \\langle v, v \\rangle)\n",
    "\\end{align*}\n",
    "$$\n",
    "\n",
    "which in terms of the norm $\\left\\lVert x \\right\\lVert = \\sqrt{\\langle x,x \\rangle}$ is \n",
    "\n",
    "$$\\begin{align*}\n",
    "{\\left\\lVert u+v \\right\\lVert}^2 + {\\left\\lVert u-v \\right\\lVert}^2 = 2({\\left\\lVert u \\right\\lVert}^2 + {\\left\\lVert v \\right\\lVert}^2)\n",
    "\\end{align*}\n",
    "$$\n",
    "\n",
    "which is commonly known as the parallelogram law, it says that the sum of the squares of the lengths of the two diagonals equals the sum of the squares of the lengths of the four sides of a parallelogram.\n",
    "\n",
    "**Collorary (Real polarization identity)**\n",
    "\n"
   ]
  },
  {
   "cell_type": "markdown",
   "id": "c9223f4e",
   "metadata": {},
   "source": [
    "Let $\\langle \\cdot , \\cdot \\rangle$ be an inner product on a complex vector space and $\\left\\lVert x\\right\\lVert = \\sqrt{\\langle x,x \\rangle}$"
   ]
  },
  {
   "cell_type": "markdown",
   "id": "d0f2fbd5",
   "metadata": {},
   "source": []
  }
 ],
 "metadata": {
  "kernelspec": {
   "display_name": "Python 3",
   "language": "python",
   "name": "python3"
  },
  "language_info": {
   "codemirror_mode": {
    "name": "ipython",
    "version": 3
   },
   "file_extension": ".py",
   "mimetype": "text/x-python",
   "name": "python",
   "nbconvert_exporter": "python",
   "pygments_lexer": "ipython3",
   "version": "3.13.2"
  }
 },
 "nbformat": 4,
 "nbformat_minor": 5
}
